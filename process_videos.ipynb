{
 "cells": [
  {
   "cell_type": "code",
   "execution_count": null,
   "metadata": {},
   "outputs": [],
   "source": [
    "import cv2\n",
    "\n",
    "from google.cloud import vision\n",
    "import io\n",
    "import os"
   ]
  },
  {
   "cell_type": "code",
   "execution_count": null,
   "metadata": {},
   "outputs": [],
   "source": [
    "# source: https://cloud.google.com/vision/docs/labels#vision_label_detection-python\n",
    "def detect_labels(path):\n",
    "    \"\"\"Detects labels in the file.\"\"\"\n",
    "    client = vision.ImageAnnotatorClient()\n",
    "    # requires authentication here\n",
    "\n",
    "    with io.open(path, 'rb') as image_file:\n",
    "        content = image_file.read()\n",
    "\n",
    "    image = vision.Image(content=content)\n",
    "\n",
    "    response = client.label_detection(image=image)\n",
    "    labels = response.label_annotations\n",
    "    \n",
    "    des = list()\n",
    "    for label in labels:\n",
    "        des.append(label.description)\n",
    "    return des"
   ]
  },
  {
   "cell_type": "code",
   "execution_count": null,
   "metadata": {},
   "outputs": [],
   "source": [
    "def process_video(path, frame_processing_folder):\n",
    "    vid = cv2.VideoCapture(path)\n",
    "    status,img = vid.read()\n",
    "    c=1\n",
    "    while status:\n",
    "        cv2.imwrite(f\"{frame_processing_folder}{c}.jpg\", img)\n",
    "        status,img = vid.read()\n",
    "        c+=1\n",
    "    \n",
    "    path_frames = [os.path.join(frame_processing_folder, i) for i in os.listdir(frame_processing_folder)]\n",
    "    frames_data = dict()\n",
    "    for path_frame in path_frames:\n",
    "        data = detect_labels(path)\n",
    "        frames_data[path_frame.split('/')[-1]] = data\n",
    "        \n",
    "    return data"
   ]
  }
 ],
 "metadata": {
  "kernelspec": {
   "display_name": "Python 3",
   "language": "python",
   "name": "python3"
  },
  "language_info": {
   "codemirror_mode": {
    "name": "ipython",
    "version": 3
   },
   "file_extension": ".py",
   "mimetype": "text/x-python",
   "name": "python",
   "nbconvert_exporter": "python",
   "pygments_lexer": "ipython3",
   "version": "3.7.6"
  }
 },
 "nbformat": 4,
 "nbformat_minor": 4
}
